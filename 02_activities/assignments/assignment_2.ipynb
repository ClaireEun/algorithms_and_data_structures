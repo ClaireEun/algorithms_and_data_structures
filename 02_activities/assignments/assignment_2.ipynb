{
 "cells": [
  {
   "cell_type": "markdown",
   "metadata": {},
   "source": [
    "# Practice Interview\n",
    "\n",
    "## Objective\n",
    "\n",
    "_*The partner assignment aims to provide participants with the opportunity to practice coding in an interview context. You will analyze your partner's Assignment 1. Moreover, code reviews are common practice in a software development team. This assignment should give you a taste of the code review process.*_\n",
    "\n",
    "## Group Size\n",
    "\n",
    "Each group should have 2 people. You will be assigned a partner\n",
    "\n",
    "## Part 1:\n",
    "\n",
    "You and your partner must share each other's Assignment 1 submission."
   ]
  },
  {
   "cell_type": "markdown",
   "metadata": {},
   "source": [
    "\n",
    "## Part 2:\n",
    "\n",
    "Create a Jupyter Notebook, create 6 of the following headings, and complete the following for your partner's assignment 1:\n",
    "\n",
    "-   Paraphrase the problem in your own words.\n"
   ]
  },
  {
   "cell_type": "code",
   "execution_count": null,
   "metadata": {},
   "outputs": [],
   "source": [
    "# Your answer here\n",
    "######################\n",
    "# Find the all the path from the root to leaves. Make sure find all the possible path. "
   ]
  },
  {
   "cell_type": "markdown",
   "metadata": {},
   "source": [
    "\n",
    "-   Create 1 new example that demonstrates you understand the problem. Trace/walkthrough 1 example that your partner made and explain it.\n"
   ]
  },
  {
   "cell_type": "code",
   "execution_count": null,
   "metadata": {},
   "outputs": [],
   "source": [
    "# Your answer here\n",
    "####################\n",
    "# Input : [1,3,3,4,5,6,8]\n",
    "# Output : [1,3,4], [1,3,5],[1,3,6],[1,3,8]\n",
    "########################################\n",
    "# Partner's explain\n",
    "# FOr input, I used level order traversal. Same as how the examples were written \n",
    "\n",
    "# Example 1\n",
    "# Input: [3, 5, 6, 7, 9, 10]\n",
    "# Output: [[3, 5], [3, 6, 7, 10], [3, 6, 9]]\n"
   ]
  },
  {
   "cell_type": "markdown",
   "metadata": {},
   "source": [
    "\n",
    "-   Copy the solution your partner wrote. \n"
   ]
  },
  {
   "cell_type": "code",
   "execution_count": null,
   "metadata": {},
   "outputs": [],
   "source": [
    "# Your answer here\n",
    "# Definition for a binary tree node.\n",
    "class TreeNode:\n",
    "    def __init__(self, value = 0, left = None, right = None):\n",
    "        self.value = value\n",
    "        self.left = None\n",
    "        self.right = None\n",
    "\n",
    "def collect_path(node, path, all_paths):\n",
    "    if node is None:\n",
    "        return\n",
    "\n",
    "    # Append node to path\n",
    "    path.append(node.value)\n",
    "\n",
    "    # If node is a leaf, save path to all_paths\n",
    "    if node.left is None and node.right is None:\n",
    "        all_paths.append(list(path))\n",
    "    else:\n",
    "      \n",
    "        # Else, proceed to children\n",
    "        collect_path(node.left, path, all_paths)\n",
    "        collect_path(node.right, path, all_paths)\n",
    "\n",
    "    # When going back, remove the last node from the path\n",
    "    path.pop()\n",
    "\n",
    "# Function to get all paths from root to leaf \n",
    "def print_paths(root):\n",
    "    all_paths = []\n",
    "    collect_path(root, [], all_paths)\n",
    "    return all_paths"
   ]
  },
  {
   "cell_type": "markdown",
   "metadata": {},
   "source": [
    "\n",
    "-   Explain why their solution works in your own words.\n"
   ]
  },
  {
   "cell_type": "code",
   "execution_count": null,
   "metadata": {},
   "outputs": [],
   "source": [
    "# Your answer here\n",
    "#####################\n",
    "# This code has recursive function traverses all the path from the root to leaf node, and collecting them in all path.\n",
    "# It will handles backtracking (using pop) to avoid carrying over values from different paths."
   ]
  },
  {
   "cell_type": "markdown",
   "metadata": {},
   "source": [
    "\n",
    "-   Explain the problem’s time and space complexity in your own words.\n"
   ]
  },
  {
   "cell_type": "code",
   "execution_count": null,
   "metadata": {},
   "outputs": [],
   "source": [
    "# Your answer here\n",
    "####################\n",
    "# Time Complexity: O(N) Each node is visited once.\n",
    "# Space Complexity: O(N), considering the maximum depth of the recursion stack (in the worst case of a skewed tree) and the space used by all_paths."
   ]
  },
  {
   "cell_type": "markdown",
   "metadata": {},
   "source": [
    "\n",
    "-   Critique your partner's solution, including explanation, and if there is anything that should be adjusted.\n"
   ]
  },
  {
   "cell_type": "code",
   "execution_count": null,
   "metadata": {},
   "outputs": [],
   "source": [
    "# Your answer here\n",
    "##############\n",
    "#This is a great soloution finding all from the root to leaf path in a binary tree. It has backtracking, so it could avoid problems.\n",
    "#I found this function does not explicitly handle case when the input root is None(empty tree)\n",
    "# While it does work correctly in such cases because it immediately returns, it might be clearer to explicitly handle this at the beginning of the print_paths function.\n",
    "# e.g) if root is None:\n",
    "#       return []\n"
   ]
  },
  {
   "cell_type": "markdown",
   "metadata": {},
   "source": [
    "\n",
    "## Part 3:\n",
    "\n",
    "Please write a 200 word reflection documenting your process from assignment 1, and your presentation and review experience with your partner at the bottom of the Jupyter Notebook under a new heading \"Reflection.\" Again, export this Notebook as pdf.\n"
   ]
  },
  {
   "cell_type": "markdown",
   "metadata": {},
   "source": [
    "### Reflection"
   ]
  },
  {
   "cell_type": "code",
   "execution_count": null,
   "metadata": {},
   "outputs": [],
   "source": [
    "# Your answer here\n",
    "##################################\n",
    "#For Assignment 1, I chose to implement Breadth-First Search (BFS) traversal to check whether a binary tree contains duplicate values. BFS was a natural choice as it allows traversing nodes level by level, ensuring that all values are checked systematically. After implementing the code, I tested it with various cases to verify its correctness, including edge cases such as trees with a single node or no duplicates.\n",
    "\n",
    "#The review experience was new and insightful. Reading another person's code and understanding their problem-solving approach was challenging but rewarding. I appreciated the opportunity to see a different perspective on the problem. It helped me understand alternate ways of solving similar tasks. Receiving feedback from my partner was also valuable. Their suggestions allowed me to see areas for improvement, such as simplifying parts of the code and optimizing the approach for better performance.\n",
    "\n",
    "#Overall, this collaborative experience improved my ability to analyze code critically and strengthened my understanding of the assignment concepts. I also developed better problem-solving skills and learned the importance of clear communication when reviewing or presenting code."
   ]
  },
  {
   "cell_type": "markdown",
   "metadata": {},
   "source": [
    "\n",
    "## Evaluation Criteria\n",
    "\n",
    "We are looking for the similar points as Assignment 1\n",
    "\n",
    "-   Problem is accurately stated\n",
    "\n",
    "-   New example is correct and easily understandable\n",
    "\n",
    "-   Correctness, time, and space complexity of the coding solution\n",
    "\n",
    "-   Clarity in explaining why the solution works, its time and space complexity\n",
    "\n",
    "-   Quality of critique of your partner's assignment, if necessary\n"
   ]
  },
  {
   "cell_type": "markdown",
   "metadata": {},
   "source": [
    "## Submission Information\n",
    "\n",
    "🚨 **Please review our [Assignment Submission Guide](https://github.com/UofT-DSI/onboarding/blob/main/onboarding_documents/submissions.md)** 🚨 for detailed instructions on how to format, branch, and submit your work. Following these guidelines is crucial for your submissions to be evaluated correctly.\n",
    "\n",
    "### Submission Parameters:\n",
    "* Submission Due Date: `HH:MM AM/PM - DD/MM/YYYY`\n",
    "* The branch name for your repo should be: `assignment-2`\n",
    "* What to submit for this assignment:\n",
    "    * This Jupyter Notebook (assignment_2.ipynb) should be populated and should be the only change in your pull request.\n",
    "* What the pull request link should look like for this assignment: `https://github.com/<your_github_username>/algorithms_and_data_structures/pull/<pr_id>`\n",
    "    * Open a private window in your browser. Copy and paste the link to your pull request into the address bar. Make sure you can see your pull request properly. This helps the technical facilitator and learning support staff review your submission easily.\n",
    "\n",
    "Checklist:\n",
    "- [ ] Created a branch with the correct naming convention.\n",
    "- [ ] Ensured that the repository is public.\n",
    "- [ ] Reviewed the PR description guidelines and adhered to them.\n",
    "- [ ] Verify that the link is accessible in a private browser window.\n",
    "\n",
    "If you encounter any difficulties or have questions, please don't hesitate to reach out to our team via our Slack at `#cohort-3-help`. Our Technical Facilitators and Learning Support staff are here to help you navigate any challenges.\n"
   ]
  }
 ],
 "metadata": {
  "language_info": {
   "name": "python"
  }
 },
 "nbformat": 4,
 "nbformat_minor": 2
}
